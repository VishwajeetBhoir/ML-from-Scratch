{
 "cells": [
  {
   "cell_type": "code",
   "execution_count": 1,
   "metadata": {},
   "outputs": [],
   "source": [
    "from csv import reader"
   ]
  },
  {
   "cell_type": "code",
   "execution_count": null,
   "metadata": {},
   "outputs": [],
   "source": []
  },
  {
   "cell_type": "code",
   "execution_count": null,
   "metadata": {},
   "outputs": [],
   "source": []
  },
  {
   "cell_type": "code",
   "execution_count": 2,
   "metadata": {},
   "outputs": [
    {
     "name": "stdout",
     "output_type": "stream",
     "text": [
      "Loaded data file pima-indians-diabetes.csv with 768 row adn 9 column\n"
     ]
    }
   ],
   "source": [
    "def load_csv(filename):\n",
    "    dataset = list()\n",
    "    with open(filename,\"r\") as file:\n",
    "        csv_reader = reader(file)\n",
    "        for row in csv_reader:\n",
    "            if not row:\n",
    "                continue\n",
    "            dataset.append(row)\n",
    "    return dataset\n",
    "        \n",
    "        \n",
    "    #file = open(filename,\"r\")\n",
    "    #lines = reader(file)\n",
    "    #dataset = list(lines)\n",
    "    #return dataset\n",
    "\n",
    "filename = \"pima-indians-diabetes.csv\"\n",
    "dataset = load_csv(filename)\n",
    "print('Loaded data file {0} with {1} row adn {2} column'.format(filename,len(dataset),len(dataset[0])))"
   ]
  },
  {
   "cell_type": "code",
   "execution_count": 4,
   "metadata": {},
   "outputs": [],
   "source": [
    "def str_column_to_float(dataset,column):\n",
    "    for row in dataset:\n",
    "        row[column]=float(row[column].strip())"
   ]
  },
  {
   "cell_type": "code",
   "execution_count": 6,
   "metadata": {},
   "outputs": [
    {
     "name": "stdout",
     "output_type": "stream",
     "text": [
      "Loaded data file pima-indians-diabetes.csv with 768 row adn 9 column\n",
      "['6', '148', '72', '35', '0', '33.6', '0.627', '50', '1']\n",
      "[6.0, 148.0, 72.0, 35.0, 0.0, 33.6, 0.627, 50.0, 1.0]\n"
     ]
    }
   ],
   "source": [
    "def load_csv(filename):\n",
    "    dataset = list()\n",
    "    with open(filename,\"r\") as file:\n",
    "        csv_reader = reader(file)\n",
    "        for row in csv_reader:\n",
    "            if not row:\n",
    "                continue\n",
    "            dataset.append(row)\n",
    "    return dataset\n",
    "        \n",
    "        \n",
    "    #file = open(filename,\"r\")\n",
    "    #lines = reader(file)\n",
    "    #dataset = list(lines)\n",
    "    #return dataset\n",
    "\n",
    "filename = \"pima-indians-diabetes.csv\"\n",
    "dataset = load_csv(filename)\n",
    "print('Loaded data file {0} with {1} row adn {2} column'.format(filename,len(dataset),len(dataset[0])))\n",
    "print (dataset[0])\n",
    "\n",
    "for i in range(len(dataset[0])):\n",
    "    str_column_to_float(dataset,i)\n",
    "print (dataset[0])\n",
    "    "
   ]
  },
  {
   "cell_type": "code",
   "execution_count": 8,
   "metadata": {},
   "outputs": [],
   "source": [
    "def str_column_to_int(dataset,column):\n",
    "    class_values = [row[column] for row in dataset]\n",
    "    unique = set(class_values)\n",
    "    lookup = dict()\n",
    "    for i,value in enumerate(unique):\n",
    "        lookup[value] = i\n",
    "    for row in dataset:\n",
    "        row[column] = lookup[row[column]]\n",
    "    return lookup"
   ]
  },
  {
   "cell_type": "code",
   "execution_count": 11,
   "metadata": {},
   "outputs": [
    {
     "name": "stdout",
     "output_type": "stream",
     "text": [
      "Loaded data file iris.csv with 150 row adn 5 column\n",
      "['5.1', '3.5', '1.4', '0.2', 'Iris-setosa']\n",
      "[5.1, 3.5, 1.4, 0.2, 0]\n",
      "{'Iris-setosa': 0, 'Iris-virginica': 1, 'Iris-versicolor': 2}\n"
     ]
    }
   ],
   "source": [
    "def load_csv(filename):\n",
    "    dataset = list()\n",
    "    with open(filename,\"r\") as file:\n",
    "        csv_reader = reader(file)\n",
    "        for row in csv_reader:\n",
    "            if not row:\n",
    "                continue\n",
    "            dataset.append(row)\n",
    "    return dataset\n",
    "\n",
    "def str_column_to_float(dataset,column):\n",
    "    for row in dataset:\n",
    "        row[column]=float(row[column].strip())\n",
    "\n",
    "def str_column_to_int(dataset,column):\n",
    "    class_values = [row[column] for row in dataset]\n",
    "    unique = set(class_values)\n",
    "    lookup = dict()\n",
    "    for i,value in enumerate(unique):\n",
    "        lookup[value] = i\n",
    "    for row in dataset:\n",
    "        row[column] = lookup[row[column]]\n",
    "    return lookup\n",
    "\n",
    "        \n",
    "        \n",
    "    #file = open(filename,\"r\")\n",
    "    #lines = reader(file)\n",
    "    #dataset = list(lines)\n",
    "    #return dataset\n",
    "\n",
    "filename = \"iris.csv\"\n",
    "dataset = load_csv(filename)\n",
    "print('Loaded data file {0} with {1} row adn {2} column'.format(filename,len(dataset),len(dataset[0])))\n",
    "print (dataset[0])\n",
    "\n",
    "for i in range(4):\n",
    "    str_column_to_float(dataset,i)\n",
    "#print (dataset[0])\n",
    "\n",
    "lookup = str_column_to_int(dataset,4)\n",
    "print(dataset[0])\n",
    "print(lookup)\n",
    "\n",
    "    "
   ]
  },
  {
   "cell_type": "code",
   "execution_count": null,
   "metadata": {},
   "outputs": [],
   "source": []
  }
 ],
 "metadata": {
  "kernelspec": {
   "display_name": "Python 3",
   "language": "python",
   "name": "python3"
  },
  "language_info": {
   "codemirror_mode": {
    "name": "ipython",
    "version": 3
   },
   "file_extension": ".py",
   "mimetype": "text/x-python",
   "name": "python",
   "nbconvert_exporter": "python",
   "pygments_lexer": "ipython3",
   "version": "3.7.3"
  }
 },
 "nbformat": 4,
 "nbformat_minor": 2
}
