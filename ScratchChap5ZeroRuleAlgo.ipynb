{
 "cells": [
  {
   "cell_type": "code",
   "execution_count": 3,
   "metadata": {},
   "outputs": [],
   "source": [
    "def zero_rule_classification_algorithm(train,test):\n",
    "    output_vlaues = [row[-1] for row in train]\n",
    "    predictions = max(set(output_values),key = output_values.count)\n",
    "    predicted = [predictions for i in range(len(test))]\n",
    "    return predictions\n",
    "    \n",
    "    "
   ]
  },
  {
   "cell_type": "code",
   "execution_count": 6,
   "metadata": {},
   "outputs": [
    {
     "name": "stdout",
     "output_type": "stream",
     "text": [
      "[0, 0, 0, 0]\n"
     ]
    }
   ],
   "source": [
    "from random import seed \n",
    "\n",
    "def zero_rule_classification_algorithm(train,test):\n",
    "    output_values = [row[-1] for row in train]\n",
    "    predictions = max(set(output_values),key = output_values.count)\n",
    "    predicted = [predictions for i in range(len(test))]\n",
    "    return predicted\n",
    "\n",
    "seed(1)\n",
    "train = [[0],[1],[0],[1],[0],[1]]\n",
    "test = [[None],[None],[None],[None]]\n",
    "\n",
    "predicted = zero_rule_classification_algorithm(train,test)\n",
    "print(predicted)\n"
   ]
  },
  {
   "cell_type": "code",
   "execution_count": null,
   "metadata": {},
   "outputs": [],
   "source": []
  }
 ],
 "metadata": {
  "kernelspec": {
   "display_name": "Python 3",
   "language": "python",
   "name": "python3"
  },
  "language_info": {
   "codemirror_mode": {
    "name": "ipython",
    "version": 3
   },
   "file_extension": ".py",
   "mimetype": "text/x-python",
   "name": "python",
   "nbconvert_exporter": "python",
   "pygments_lexer": "ipython3",
   "version": "3.7.3"
  }
 },
 "nbformat": 4,
 "nbformat_minor": 2
}
