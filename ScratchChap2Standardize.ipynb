{
 "cells": [
  {
   "cell_type": "code",
   "execution_count": 1,
   "metadata": {},
   "outputs": [],
   "source": [
    "def mean(dataset):\n",
    "    means = list()\n",
    "    means = [0 for i in range(len(dataset[0]))]\n",
    "    for i in range(len(dataset[0])):\n",
    "        col_values = [row[i] for row in dataset]\n",
    "        means[i] = sum(col_values)/len(dataset)\n",
    "    return means"
   ]
  },
  {
   "cell_type": "code",
   "execution_count": 2,
   "metadata": {},
   "outputs": [],
   "source": [
    "def std_dev(dataset,means):\n",
    "    std_devs = list()\n",
    "    std_devs = [0 for i in range(len(dataset[0]))]\n",
    "    for i in range(len(dataset[0])):\n",
    "        variance = [pow(row[i]-means[i],2) for row in dataset]\n",
    "        std_devs[i] = sum(variance)\n",
    "    std_devs = [sqrt(std_devs[x]/(len(dataset)-1)) for x in std_devs]\n",
    "    return std_devs"
   ]
  },
  {
   "cell_type": "code",
   "execution_count": 5,
   "metadata": {},
   "outputs": [],
   "source": [
    "def standardize(dataset,means,std_devs):\n",
    "    for row in dataset:\n",
    "        row[i] =( (row[i]-means[i])/std_devs[i] for i in range(len(row)))"
   ]
  },
  {
   "cell_type": "code",
   "execution_count": 11,
   "metadata": {},
   "outputs": [
    {
     "name": "stdout",
     "output_type": "stream",
     "text": [
      "Loaded data file pima-indians-diabetes.csv with 768 rows ans 9 columns\n",
      "[6.0, 148.0, 72.0, 35.0, 0.0, 33.6, 0.627, 50.0, 1.0]\n",
      "[0.6395304921176576, 0.8477713205896718, 0.14954329852954296, 0.9066790623472505, -0.692439324724129, 0.2038799072674717, 0.468186870229798, 1.4250667195933604, 1.3650063669598067]\n"
     ]
    }
   ],
   "source": [
    "from math import sqrt\n",
    "from csv import reader\n",
    "\n",
    "def load_csv(filename):\n",
    "    dataset = list()\n",
    "    with open(filename,\"r\") as file:\n",
    "        csv_reader = reader(file)\n",
    "        for row in csv_reader:\n",
    "            if not row:\n",
    "                continue\n",
    "            dataset.append(row)\n",
    "    return dataset\n",
    "\n",
    "def str_column_to_float(dataset,column):\n",
    "    for row in dataset:\n",
    "        row[column]=float(row[column].strip())\n",
    "\n",
    "def mean(dataset):\n",
    "    means = list()\n",
    "    means = [0 for i in range(len(dataset[0]))]\n",
    "    for i in range(len(dataset[0])):\n",
    "        col_values = [row[i] for row in dataset]\n",
    "        means[i] = sum(col_values)/len(dataset)\n",
    "    return means\n",
    "\n",
    "def std_dev(dataset,means):\n",
    "    std_devs = list()\n",
    "    std_devs = [0 for i in range(len(dataset[0]))]\n",
    "    for i in range(len(dataset[0])):\n",
    "        variance = [pow(row[i]-means[i],2) for row in dataset]\n",
    "        std_devs[i] = sum(variance)\n",
    "    std_devs = [sqrt(std_devs[x]/(len(dataset)-1)) for x in range(len(std_devs))]\n",
    "    return std_devs\n",
    "\n",
    "def standardize(dataset,means,std_devs):\n",
    "    for row in dataset:\n",
    "        for i in range(len(row)):\n",
    "            row[i] = (row[i]-means[i])/std_devs[i] \n",
    "filename = 'pima-indians-diabetes.csv'\n",
    "dataset = load_csv(filename)\n",
    "print(f'Loaded data file {filename} with {len(dataset)} rows ans {len(dataset[0])} columns')\n",
    "for i in range(len(dataset[0])):\n",
    "    str_column_to_float(dataset,i)\n",
    "print (dataset[0])\n",
    "\n",
    "means = mean(dataset)\n",
    "std_devs = std_dev(dataset,means)\n",
    "\n",
    "standardize(dataset,means,std_devs)\n",
    "\n",
    "print(dataset[0])\n",
    "\n"
   ]
  },
  {
   "cell_type": "code",
   "execution_count": null,
   "metadata": {},
   "outputs": [],
   "source": []
  }
 ],
 "metadata": {
  "kernelspec": {
   "display_name": "Python 3",
   "language": "python",
   "name": "python3"
  },
  "language_info": {
   "codemirror_mode": {
    "name": "ipython",
    "version": 3
   },
   "file_extension": ".py",
   "mimetype": "text/x-python",
   "name": "python",
   "nbconvert_exporter": "python",
   "pygments_lexer": "ipython3",
   "version": "3.7.3"
  }
 },
 "nbformat": 4,
 "nbformat_minor": 2
}
