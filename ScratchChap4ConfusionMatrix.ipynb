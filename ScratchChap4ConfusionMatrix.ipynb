{
 "cells": [
  {
   "cell_type": "code",
   "execution_count": 11,
   "metadata": {},
   "outputs": [
    {
     "name": "stdout",
     "output_type": "stream",
     "text": [
      "{0, 1}\n",
      "(P)0 1\n",
      "(A)-----\n",
      "0| 1 1\n",
      "1| 0 0\n"
     ]
    }
   ],
   "source": [
    "def confusion_matrix(actual,predicted):\n",
    "    unique = set(actual)\n",
    "    #print (unique)\n",
    "    matrix = [list() for x in range(len(unique))]\n",
    "    for i in range(len(unique)):\n",
    "        matrix[i] = [0 for x in range(len(unique))]\n",
    "    lookup = dict()\n",
    "    for i,value in enumerate(unique):\n",
    "        lookup[value] = i\n",
    "        #print(value)\n",
    "    for i in range(len(unique)):\n",
    "        x = lookup[actual[i]]\n",
    "        y = lookup[predicted[i]]\n",
    "        matrix[x][y] += 1\n",
    "    return unique, matrix\n",
    "\n",
    "def print_confusion_matrix(unique,matrix):\n",
    "    print('(P)'+' '.join(str(x) for x in unique))\n",
    "    print('(A)-----')\n",
    "    for i,x in enumerate(unique):\n",
    "        print(\"%s| %s\"%(x,' '.join(str(x) for x in matrix[i])))\n",
    "        \n",
    "actual = [0,0,0,0,0,1,1,1,1,1]\n",
    "predicted = [0,1,1,0,0,1,0,1,1,1]\n",
    "unique,matrix = confusion_matrix(actual,predicted)\n",
    "print_confusion_matrix(unique, matrix)  "
   ]
  },
  {
   "cell_type": "code",
   "execution_count": 6,
   "metadata": {},
   "outputs": [
    {
     "name": "stdout",
     "output_type": "stream",
     "text": [
      "[(0, 0), (1, 1)]\n"
     ]
    }
   ],
   "source": [
    "actual = [0,0,0,0,0,1,1,1,1,1]\n",
    "predicted = [0,1,1,0,0,1,0,1,1,1]\n",
    "\n",
    "unique = set(actual)\n",
    "print(list(enumerate(unique)))\n",
    "lookup = dict()\n",
    "for i,value in enumerate(unique):\n",
    "        lookup[value] = i\n",
    "        \n",
    "\n"
   ]
  },
  {
   "cell_type": "code",
   "execution_count": null,
   "metadata": {},
   "outputs": [],
   "source": []
  }
 ],
 "metadata": {
  "kernelspec": {
   "display_name": "Python 3",
   "language": "python",
   "name": "python3"
  },
  "language_info": {
   "codemirror_mode": {
    "name": "ipython",
    "version": 3
   },
   "file_extension": ".py",
   "mimetype": "text/x-python",
   "name": "python",
   "nbconvert_exporter": "python",
   "pygments_lexer": "ipython3",
   "version": "3.7.3"
  }
 },
 "nbformat": 4,
 "nbformat_minor": 2
}
