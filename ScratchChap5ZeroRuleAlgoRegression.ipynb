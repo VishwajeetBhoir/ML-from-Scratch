{
 "cells": [
  {
   "cell_type": "code",
   "execution_count": 1,
   "metadata": {},
   "outputs": [],
   "source": [
    "def zero_rule_algorithm_regression(train,test):\n",
    "    output_values = [row[-1] for row in train]\n",
    "    prediction = sum(output_values)/float(len(actual))\n",
    "    predicted = list()\n",
    "    for i in range(len(test)):\n",
    "        predicted[i] = prediction\n",
    "    return predicted"
   ]
  },
  {
   "cell_type": "code",
   "execution_count": 4,
   "metadata": {},
   "outputs": [
    {
     "name": "stdout",
     "output_type": "stream",
     "text": [
      "[15.0, 15.0, 15.0, 15.0]\n"
     ]
    }
   ],
   "source": [
    "from random import seed \n",
    "def zero_rule_algorithm_regression(train,test):\n",
    "    output_values = [row[-1] for row in train]\n",
    "    prediction = sum(output_values)/float(len(output_values))\n",
    "    predicted = list()\n",
    "    predicted = [prediction for i in range(len(test))]\n",
    "    #for i in range(len(test)):\n",
    "    #    predicted[i] = prediction\n",
    "    return predicted\n",
    "seed(1)\n",
    "train = [[10],[15],[12],[15],[18],[20]]\n",
    "test = [[None],[None],[None],[None]]\n",
    "predictions = zero_rule_algorithm_regression(train,test)\n",
    "print(predictions)\n"
   ]
  },
  {
   "cell_type": "code",
   "execution_count": null,
   "metadata": {},
   "outputs": [],
   "source": []
  }
 ],
 "metadata": {
  "kernelspec": {
   "display_name": "Python 3",
   "language": "python",
   "name": "python3"
  },
  "language_info": {
   "codemirror_mode": {
    "name": "ipython",
    "version": 3
   },
   "file_extension": ".py",
   "mimetype": "text/x-python",
   "name": "python",
   "nbconvert_exporter": "python",
   "pygments_lexer": "ipython3",
   "version": "3.7.3"
  }
 },
 "nbformat": 4,
 "nbformat_minor": 2
}
