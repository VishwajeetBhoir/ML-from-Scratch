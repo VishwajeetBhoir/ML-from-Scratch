{
 "cells": [
  {
   "cell_type": "code",
   "execution_count": 1,
   "metadata": {},
   "outputs": [],
   "source": [
    "def train_test_split(dataset,split = 0.60):\n",
    "    train = list()\n",
    "    copy = list(dataset)\n",
    "    train_len = split*len(dataset)\n",
    "    while len(train)<train_len:\n",
    "        i =randrange(len(copy))\n",
    "        train.append(copy.pop(i))\n",
    "    return train,copy"
   ]
  },
  {
   "cell_type": "code",
   "execution_count": 8,
   "metadata": {},
   "outputs": [
    {
     "name": "stdout",
     "output_type": "stream",
     "text": [
      "[[3], [2], [7], [1], [8], [9]]\n",
      "[[4], [5], [6], [10]]\n"
     ]
    }
   ],
   "source": [
    "from random import seed\n",
    "from random import randrange\n",
    "\n",
    "def train_test_split(dataset,split = 0.60):\n",
    "    train = list()\n",
    "    copy = list(dataset)\n",
    "    train_len = split*len(dataset)\n",
    "    while len(train)<train_len:\n",
    "        i =randrange(len(copy))\n",
    "        train.append(copy.pop(i))\n",
    "    return train,copy\n",
    "\n",
    "seed(1)\n",
    "dataset = [[1],[2],[3],[4],[5],[6],[7],[8],[9],[10]]\n",
    "train,test = train_test_split(dataset)\n",
    "print(train)\n",
    "print(test)\n"
   ]
  },
  {
   "cell_type": "code",
   "execution_count": null,
   "metadata": {},
   "outputs": [],
   "source": []
  },
  {
   "cell_type": "code",
   "execution_count": null,
   "metadata": {},
   "outputs": [],
   "source": []
  }
 ],
 "metadata": {
  "kernelspec": {
   "display_name": "Python 3",
   "language": "python",
   "name": "python3"
  },
  "language_info": {
   "codemirror_mode": {
    "name": "ipython",
    "version": 3
   },
   "file_extension": ".py",
   "mimetype": "text/x-python",
   "name": "python",
   "nbconvert_exporter": "python",
   "pygments_lexer": "ipython3",
   "version": "3.7.3"
  }
 },
 "nbformat": 4,
 "nbformat_minor": 2
}
